{
 "cells": [
  {
   "cell_type": "markdown",
   "metadata": {},
   "source": [
    "# HANWRITTEN DIGIT RECOGNITION USING MNIST DATA SETS AND DEEP LEARNING"
   ]
  },
  {
   "cell_type": "markdown",
   "metadata": {},
   "source": [
    "* OPIMISATION FN USED -> GRADIENT DESCENT\n",
    "* Activation fn is Relu in inner layer and sigmoid in last layer\n",
    "* first 10000 data used for training and next 5000 for testing"
   ]
  },
  {
   "cell_type": "code",
   "execution_count": 1,
   "metadata": {},
   "outputs": [],
   "source": [
    "from scipy.io import loadmat\n",
    "import pandas as pd\n",
    "import numpy as np\n",
    "import matplotlib.pyplot as plt  #importing libraray\n",
    "import math\n",
    "import scipy.optimize as opt"
   ]
  },
  {
   "cell_type": "code",
   "execution_count": 2,
   "metadata": {},
   "outputs": [
    {
     "name": "stdout",
     "output_type": "stream",
     "text": [
      "0.25\n"
     ]
    }
   ],
   "source": [
    "def relu(z):\n",
    "    z[z<=0]=0\n",
    "    \n",
    "    return z\n",
    "def relu_grad(z):\n",
    "    z[z>=0]=0.9999\n",
    "    z[z<0]=0\n",
    "    return z\n",
    "        \n",
    "        \n",
    "def sigmoid(x):\n",
    "    return 1 / (1 + np.exp(-x))  #sigmoid fn\n",
    "def sigmoidgrad(z): #it compute derivate of sigmoid of the fn\n",
    "    return sigmoid(z)*(1-sigmoid(z))\n",
    "\n",
    "print(sigmoidgrad(0))\n"
   ]
  },
  {
   "cell_type": "code",
   "execution_count": 3,
   "metadata": {},
   "outputs": [],
   "source": [
    "data = pd.read_csv('C:\\\\Users\\\\PRASHANT\\\\Desktop\\\\coding dec19\\\\file_neural\\\\train.csv\\\\train.csv')"
   ]
  },
  {
   "cell_type": "markdown",
   "metadata": {},
   "source": [
    "* data is present inside a csv file which is loaded using pandas\n",
    "* data is 4000 X 785 size matrix \n",
    "* 784 column is for 28 X 28 pixel image\n",
    "* first column for output\n",
    "* and next 784 column represent one pixel\n",
    "* each pixel contain value denoting intensity from 0 to 255 we regularize all column to obtain between -2 to +2\n",
    "* output Y is 10000 X 1 matrix , which actually represnt that no \n",
    "* we take out 1th column to 784th as X and  transpose it\n",
    "* we take out 0th column in Y\n",
    "\n",
    "* we comput y1 matrix which is 10000 X 10 matrix which contain 1 at poition which is value of Y in that row\n",
    "* we compute A2 matrix which result of forward propagation \n",
    "* from A3 we compute ouput matrix which contain digit from 1 to 9 in 5000 X 1 matrix\n",
    "* we compare output with Y matrix to find accuracy on test dat"
   ]
  },
  {
   "cell_type": "code",
   "execution_count": 4,
   "metadata": {},
   "outputs": [
    {
     "name": "stdout",
     "output_type": "stream",
     "text": [
      "   label  pixel0  pixel1  pixel2  pixel3  pixel4  pixel5  pixel6  pixel7  \\\n",
      "0      1       0       0       0       0       0       0       0       0   \n",
      "1      0       0       0       0       0       0       0       0       0   \n",
      "2      1       0       0       0       0       0       0       0       0   \n",
      "3      4       0       0       0       0       0       0       0       0   \n",
      "4      0       0       0       0       0       0       0       0       0   \n",
      "\n",
      "   pixel8  ...  pixel774  pixel775  pixel776  pixel777  pixel778  pixel779  \\\n",
      "0       0  ...         0         0         0         0         0         0   \n",
      "1       0  ...         0         0         0         0         0         0   \n",
      "2       0  ...         0         0         0         0         0         0   \n",
      "3       0  ...         0         0         0         0         0         0   \n",
      "4       0  ...         0         0         0         0         0         0   \n",
      "\n",
      "   pixel780  pixel781  pixel782  pixel783  \n",
      "0         0         0         0         0  \n",
      "1         0         0         0         0  \n",
      "2         0         0         0         0  \n",
      "3         0         0         0         0  \n",
      "4         0         0         0         0  \n",
      "\n",
      "[5 rows x 785 columns]\n"
     ]
    }
   ],
   "source": [
    "print(data.head()) #data is present in matlab file\n",
    "X=np.array(data)[:10000,1:]\n",
    "X_v=np.array(data)[20000:22000,1:]\n",
    "X=X.T # X is 400 X 5000\n",
    "X_v=X_v.T\n",
    "Y=np.array(data)[:10000,:1]\n",
    "Y_v=np.array(data)[20000:22000,:1]"
   ]
  },
  {
   "cell_type": "markdown",
   "metadata": {},
   "source": [
    "* i have taken 1 to 10000 column for training\n",
    "*  5000 separate data 15000 row to 20000 row is used for testing\n",
    "* 2000  ie column 20000 to 22000 data is used for validation after each iteration of gradient descent pass through data\n",
    "* validation data donot contribut to theta but they only help us to know when it is better to stop"
   ]
  },
  {
   "cell_type": "code",
   "execution_count": 5,
   "metadata": {},
   "outputs": [
    {
     "name": "stdout",
     "output_type": "stream",
     "text": [
      "255\n",
      "0\n"
     ]
    }
   ],
   "source": [
    "print(np.max(X))\n",
    "print(np.min(Y))"
   ]
  },
  {
   "cell_type": "code",
   "execution_count": 6,
   "metadata": {},
   "outputs": [
    {
     "data": {
      "text/plain": [
       "pandas.core.frame.DataFrame"
      ]
     },
     "execution_count": 6,
     "metadata": {},
     "output_type": "execute_result"
    }
   ],
   "source": [
    "type(data)"
   ]
  },
  {
   "cell_type": "code",
   "execution_count": 7,
   "metadata": {},
   "outputs": [
    {
     "name": "stdout",
     "output_type": "stream",
     "text": [
      "33.545636479591835 78.81471081940502\n"
     ]
    }
   ],
   "source": [
    "std=X.std()\n",
    "mn=X.mean()\n",
    "print(mn,std)\n",
    "X1=X-X.mean()\n",
    "X1=X1/X1.std()\n",
    "# normalising training data to make all data within a range\n",
    "# it help us to achieve gradient descent easily"
   ]
  },
  {
   "cell_type": "code",
   "execution_count": 8,
   "metadata": {},
   "outputs": [
    {
     "name": "stdout",
     "output_type": "stream",
     "text": [
      "33.53036160714286 78.75510693100246\n"
     ]
    }
   ],
   "source": [
    "std1=X_v.std() #normalising validation data\n",
    "mn1=X_v.mean()\n",
    "print(mn1,std1)\n",
    "X1_v=X_v-X_v.mean()\n",
    "X1_v=X1_v/X1_v.std()"
   ]
  },
  {
   "cell_type": "code",
   "execution_count": 9,
   "metadata": {},
   "outputs": [
    {
     "name": "stdout",
     "output_type": "stream",
     "text": [
      "2.8098100115833162\n",
      "-0.4256265883720345\n"
     ]
    }
   ],
   "source": [
    "X=X1\n",
    "print(np.max(X))\n",
    "print(np.min(X))"
   ]
  },
  {
   "cell_type": "code",
   "execution_count": 10,
   "metadata": {},
   "outputs": [
    {
     "name": "stdout",
     "output_type": "stream",
     "text": [
      "2.8121305020496923\n",
      "-0.4257547594534903\n"
     ]
    }
   ],
   "source": [
    "X_v=X1_v\n",
    "print(np.max(X_v))\n",
    "print(np.min(X_v))"
   ]
  },
  {
   "cell_type": "code",
   "execution_count": 11,
   "metadata": {},
   "outputs": [
    {
     "name": "stdout",
     "output_type": "stream",
     "text": [
      "(784, 10000)\n",
      "(784, 2000)\n",
      "(25, 784) (25, 1) (25, 25) (25, 1) (10, 25) (10, 1)\n"
     ]
    }
   ],
   "source": [
    "m=10000\n",
    "m_v=2000\n",
    "theta1=np.random.uniform(-0.12,0.12,(25,784)) # random initilization need to be done in Neural N. (but not in Log. Reg.)\n",
    "b1=np.zeros([25,1])\n",
    "theta2=np.random.uniform(-0.12,0.12,(25,25))\n",
    "b2=np.zeros([25,1])\n",
    "\n",
    "theta3=np.random.uniform(-0.12,0.12,(10,25))\n",
    "b3=np.zeros([10,1])\n",
    "\n",
    "print(X.shape)\n",
    "print(X_v.shape)\n",
    "print(theta1.shape,b1.shape,theta2.shape,b2.shape,theta3.shape,b3.shape)\n"
   ]
  },
  {
   "cell_type": "code",
   "execution_count": 12,
   "metadata": {},
   "outputs": [
    {
     "name": "stdout",
     "output_type": "stream",
     "text": [
      "(784, 10000) (10000, 1)\n"
     ]
    }
   ],
   "source": [
    "print(X.shape,Y.shape)"
   ]
  },
  {
   "cell_type": "code",
   "execution_count": 13,
   "metadata": {},
   "outputs": [
    {
     "name": "stdout",
     "output_type": "stream",
     "text": [
      "(784, 2000) (2000, 1)\n"
     ]
    }
   ],
   "source": [
    "print(X_v.shape,Y_v.shape)"
   ]
  },
  {
   "cell_type": "code",
   "execution_count": 14,
   "metadata": {},
   "outputs": [
    {
     "name": "stdout",
     "output_type": "stream",
     "text": [
      "(10000, 1) <class 'numpy.ndarray'>\n",
      "[[1]\n",
      " [0]\n",
      " [1]\n",
      " ...\n",
      " [4]\n",
      " [7]\n",
      " [9]]\n"
     ]
    }
   ],
   "source": [
    "\n",
    "print(Y.shape,type(Y))\n",
    "#np.place(Y, Y == 10, 0)\n",
    "print(Y[0:10000,:])"
   ]
  },
  {
   "cell_type": "code",
   "execution_count": 15,
   "metadata": {},
   "outputs": [
    {
     "name": "stdout",
     "output_type": "stream",
     "text": [
      "(10000, 1) <class 'numpy.ndarray'>\n",
      "(784, 10000) <class 'numpy.ndarray'>\n",
      "[[1]\n",
      " [0]\n",
      " [1]\n",
      " ...\n",
      " [4]\n",
      " [7]\n",
      " [9]]\n"
     ]
    }
   ],
   "source": [
    "\n",
    "\n",
    "print(Y.shape,type(Y))\n",
    "print(X.shape,type(X))\n",
    "print(Y)"
   ]
  },
  {
   "cell_type": "code",
   "execution_count": 16,
   "metadata": {},
   "outputs": [
    {
     "name": "stdout",
     "output_type": "stream",
     "text": [
      "(2000, 1) <class 'numpy.ndarray'>\n",
      "(784, 2000) <class 'numpy.ndarray'>\n",
      "[[3]\n",
      " [0]\n",
      " [2]\n",
      " ...\n",
      " [1]\n",
      " [1]\n",
      " [1]]\n"
     ]
    }
   ],
   "source": [
    "\n",
    "\n",
    "print(Y_v.shape,type(Y_v))\n",
    "print(X_v.shape,type(X_v))\n",
    "print(Y_v)"
   ]
  },
  {
   "cell_type": "code",
   "execution_count": 17,
   "metadata": {},
   "outputs": [
    {
     "name": "stdout",
     "output_type": "stream",
     "text": [
      "(25, 784)\n",
      "(25, 25)\n",
      "(10, 25)\n",
      "(784, 10000)\n",
      "<class 'numpy.ndarray'>\n"
     ]
    }
   ],
   "source": [
    "n_label=10\n",
    "\n",
    "\n",
    "print(theta1.shape)\n",
    "print(theta2.shape)\n",
    "print(theta3.shape)\n",
    "\n",
    "print(X.shape)\n",
    "\n",
    "print(type(X))"
   ]
  },
  {
   "cell_type": "code",
   "execution_count": 18,
   "metadata": {},
   "outputs": [
    {
     "name": "stdout",
     "output_type": "stream",
     "text": [
      "A0 shape  (784, 10000)\n",
      "A1 shape  (25, 10000)\n"
     ]
    }
   ],
   "source": [
    "A0=X\n",
    "print(\"A0 shape \",A0.shape)\n",
    "Z1=theta1@A0+b1\n",
    "A1=relu(Z1) # in all layer except last layer relu activation fn is used\n",
    "print(\"A1 shape \",A1.shape)\n"
   ]
  },
  {
   "cell_type": "code",
   "execution_count": 19,
   "metadata": {},
   "outputs": [
    {
     "name": "stdout",
     "output_type": "stream",
     "text": [
      "(25, 10000)\n",
      "A2 shape  (25, 10000)\n",
      "A3 shape  (10, 10000)\n",
      "output shape  (10000,)\n",
      "[[1]\n",
      " [0]\n",
      " [1]\n",
      " ...\n",
      " [4]\n",
      " [7]\n",
      " [9]]\n",
      "output shape (10000, 1)\n",
      "[[2]\n",
      " [1]\n",
      " [2]\n",
      " ...\n",
      " [6]\n",
      " [2]\n",
      " [2]]\n"
     ]
    }
   ],
   "source": [
    "\n",
    "print(A1.shape)\n",
    "Z2=theta2@A1+b2\n",
    "A2=relu(Z2)\n",
    "print(\"A2 shape \",A2.shape)\n",
    "Z3=theta3@A2+b3\n",
    "A3=sigmoid(Z3)\n",
    "print(\"A3 shape \",A3.shape)\n",
    "output=np.argmax(A3, axis=0) #output contain predicted digit using hypothesis\n",
    "print(\"output shape \",output.shape)\n",
    "print(Y)\n",
    "output=output.reshape((Y.shape))\n",
    "print(\"output shape\",output.shape)\n",
    "print(output)\n",
    "\n",
    "\n"
   ]
  },
  {
   "cell_type": "code",
   "execution_count": 20,
   "metadata": {},
   "outputs": [
    {
     "name": "stdout",
     "output_type": "stream",
     "text": [
      "Training accuracy without training : 10.54%\n"
     ]
    }
   ],
   "source": [
    "print(\"Training accuracy without training :\", str(100 * np.mean(output == Y)) + \"%\")"
   ]
  },
  {
   "cell_type": "code",
   "execution_count": 21,
   "metadata": {},
   "outputs": [
    {
     "name": "stdout",
     "output_type": "stream",
     "text": [
      "(10000, 1)\n",
      "(10000, 1)\n"
     ]
    }
   ],
   "source": [
    "print(Y.shape)\n",
    "print(output.shape)\n"
   ]
  },
  {
   "cell_type": "code",
   "execution_count": 22,
   "metadata": {},
   "outputs": [
    {
     "name": "stdout",
     "output_type": "stream",
     "text": [
      "[[0. 1. 0. ... 0. 0. 0.]\n",
      " [1. 0. 1. ... 0. 0. 0.]\n",
      " [0. 0. 0. ... 0. 0. 0.]\n",
      " ...\n",
      " [0. 0. 0. ... 0. 1. 0.]\n",
      " [0. 0. 0. ... 0. 0. 0.]\n",
      " [0. 0. 0. ... 0. 0. 1.]]\n"
     ]
    }
   ],
   "source": [
    "m=10000\n",
    "y1=np.zeros([10,m])\n",
    "for u in range(0,10000):\n",
    "    y1[Y[u],u]=1\n",
    "print(y1)"
   ]
  },
  {
   "cell_type": "code",
   "execution_count": 23,
   "metadata": {},
   "outputs": [],
   "source": [
    "m_v=2000\n",
    "y1_v=np.zeros([10,m_v])\n",
    "for u in range(0,2000):\n",
    "        y1_v[Y_v[u],u]=1"
   ]
  },
  {
   "cell_type": "code",
   "execution_count": 24,
   "metadata": {},
   "outputs": [
    {
     "name": "stdout",
     "output_type": "stream",
     "text": [
      "(10000, 1)\n",
      "(10, 10000)\n",
      "(10, 10000)\n"
     ]
    }
   ],
   "source": [
    "print(output.shape)\n",
    "print(y1.shape)\n",
    "print(A3.shape)"
   ]
  },
  {
   "cell_type": "code",
   "execution_count": 25,
   "metadata": {},
   "outputs": [
    {
     "name": "stdout",
     "output_type": "stream",
     "text": [
      "unregularised cost is  6.877929962893947\n"
     ]
    }
   ],
   "source": [
    "J_cost1=(y1*np.log(A3))+((1-y1)*np.log(1-A3)) \n",
    "#J_cost2=sum(np.square(thete1))+sum(np.square(theta2))\n",
    "J_final=np.sum(J_cost1)/(-m)\n",
    "print(\"unregularised cost is \",J_final)"
   ]
  },
  {
   "cell_type": "code",
   "execution_count": 26,
   "metadata": {},
   "outputs": [
    {
     "data": {
      "text/plain": [
       "(784, 10000)"
      ]
     },
     "execution_count": 26,
     "metadata": {},
     "output_type": "execute_result"
    }
   ],
   "source": [
    "X.shape"
   ]
  },
  {
   "cell_type": "code",
   "execution_count": 27,
   "metadata": {},
   "outputs": [
    {
     "name": "stdout",
     "output_type": "stream",
     "text": [
      "regularised cost is  6.882830092845075\n"
     ]
    }
   ],
   "source": [
    "def cost_reg(theta1,b1,theta2,b2,theta3,b3,X,y1,m=10000):\n",
    "    \n",
    "    \n",
    "    \n",
    "    lambda1=1\n",
    "    A0=X\n",
    "    \n",
    "    Z1=theta1@A0+b1\n",
    "    A1=relu(Z1)\n",
    "    Z2=theta2@A1+b2\n",
    "    A2=relu(Z2)\n",
    "    \n",
    "    Z3=theta3@A2+b3\n",
    "    A3=sigmoid(Z3)\n",
    "    A3[A3==0]=0.00001\n",
    "    A3[A3==1]=0.99999\n",
    "    \n",
    "    J_cost1=np.sum((y1*np.log(A3))+((1-y1)*np.log(1-A3)) )\n",
    "    J_cost2=np.sum(np.square(theta1))+np.sum(np.square(theta2))+np.sum(np.square(theta3))\n",
    "    J_final=(J_cost1)/(-m)+(lambda1/(2*m))*J_cost2\n",
    "    #print(\"regularised cost is \",J_final)\n",
    "    return J_final\n",
    "\n",
    "print(\"regularised cost is \",cost_reg(theta1,b1,theta2,b2,theta3,b3,X,y1))"
   ]
  },
  {
   "cell_type": "code",
   "execution_count": null,
   "metadata": {},
   "outputs": [],
   "source": []
  },
  {
   "cell_type": "code",
   "execution_count": 28,
   "metadata": {},
   "outputs": [],
   "source": [
    "def compute_grad(theta1,b1,theta2,b2,theta3,b3,X,y1,alpha,m=10000):\n",
    "    \n",
    "    \n",
    "    #forward propagation\n",
    "    A0=X #784 X 5000\n",
    "    \n",
    "    Z1=theta1@A0+b1 #25 X 5000\n",
    "    A1=relu(Z1) #25 X 50000\n",
    "    Z2=theta2@A1+b2 # 25 X 5000\n",
    "    A2=relu(Z2)# 25 X 5000\n",
    "   \n",
    "    Z3=theta3@A2+b3     #10 X 5000\n",
    "    A3=sigmoid(Z3)      #10 X 5000\n",
    "    A3[A3==0]=0.00001\n",
    "    A3[A3==1]=0.99999\n",
    "    \n",
    "      \n",
    "     #backward propagation  \n",
    "    \n",
    "    delta3=A3-y1 #10 X 5000\n",
    "    Delta3=(delta3@(A2.T))/m #a3=A1  #dw3      10 X 25\n",
    "    db3=np.sum(delta3,axis=1)/m  # 10 X 1\n",
    "    db3=db3.reshape((10,1))\n",
    "    \n",
    "    #delta2=((delta3)@(theta3))*(sigmoidgrad(A2)) # 10 X5000\n",
    "    delta2=((theta3.T)@(delta3))*(relu_grad(A2)) # 25 X5000\n",
    "    Delta2=(delta2@(A1.T))/m #a1=A1  #dw2        25 X 25\n",
    "    db2=np.sum(delta2,axis=1) /m        # 25 X 1\n",
    "    db2=db2.reshape((25,1))\n",
    "    \n",
    "    delta1=((theta2.T)@(delta2))*(relu_grad(A1)) # 25 X5000\n",
    "    Delta1=(delta1@(A0.T))/m #a1=A1  #dw2        25 X 400\n",
    "    db1=np.sum(delta1,axis=1) /m        # 25 X 1\n",
    "    db1=db1.reshape((25,1))\n",
    "    \n",
    "    theta3=theta3-(alpha)*Delta3\n",
    "    theta2=theta2-(alpha)*Delta2\n",
    "    theta1=theta1-(alpha)*Delta1\n",
    "    b1=b1-(alpha)*db1\n",
    "    b2=b2-(alpha)*db2\n",
    "    b3=b3-(alpha)*db3\n",
    "    return [theta1 ,theta2 ,theta3, b1, b2, b3]\n",
    "    \n",
    "   "
   ]
  },
  {
   "cell_type": "code",
   "execution_count": 29,
   "metadata": {},
   "outputs": [],
   "source": [
    "y1=np.zeros([10,m])\n",
    "for u in range(0,10000):\n",
    "        y1[Y[u],u]=1\n",
    "\n"
   ]
  },
  {
   "cell_type": "code",
   "execution_count": 30,
   "metadata": {},
   "outputs": [],
   "source": [
    "m_v=2000\n",
    "y1_v=np.zeros([10,m_v])\n",
    "for u in range(0,2000):\n",
    "        y1_v[Y_v[u],u]=1\n",
    "\n"
   ]
  },
  {
   "cell_type": "code",
   "execution_count": 31,
   "metadata": {},
   "outputs": [
    {
     "name": "stdout",
     "output_type": "stream",
     "text": [
      "Iteration  0 regularised cost is <<<<<- 6.316266749694299\n",
      "           validation cost         ->>>> 6.336017698134372\n",
      "\n",
      "Iteration  100 regularised cost is <<<<<- 0.9476630499346167\n",
      "           validation cost         ->>>> 1.0485779461616624\n",
      "\n",
      "Iteration  200 regularised cost is <<<<<- 0.6628770928269097\n",
      "           validation cost         ->>>> 0.7966543014587231\n",
      "\n",
      "Iteration  300 regularised cost is <<<<<- 0.5764381178132412\n",
      "           validation cost         ->>>> 0.7336486022854325\n",
      "\n",
      "Iteration  400 regularised cost is <<<<<- 0.5343796831909804\n",
      "           validation cost         ->>>> 0.7135379111688593\n",
      "\n",
      "Iteration  500 regularised cost is <<<<<- 0.5157667737015051\n",
      "           validation cost         ->>>> 0.712708862684625\n",
      "\n",
      "Iteration  600 regularised cost is <<<<<- 0.5110653792389622\n",
      "           validation cost         ->>>> 0.7221214134887871\n",
      "\n",
      "Iteration  700 regularised cost is <<<<<- 0.4903575436378871\n",
      "           validation cost         ->>>> 0.7182102396580525\n",
      "\n",
      "Iteration  800 regularised cost is <<<<<- 0.46526778977423777\n",
      "           validation cost         ->>>> 0.7107239757787152\n",
      "\n",
      "Iteration  900 regularised cost is <<<<<- 0.4449205342913457\n",
      "           validation cost         ->>>> 0.7070338329277559\n",
      "\n",
      "Iteration  1000 regularised cost is <<<<<- 0.4280385011092901\n",
      "           validation cost         ->>>> 0.7054333632124137\n",
      "\n",
      "Iteration  1100 regularised cost is <<<<<- 0.418297870717833\n",
      "           validation cost         ->>>> 0.7045296694024692\n",
      "\n",
      "Iteration  1200 regularised cost is <<<<<- 0.4032611031070539\n",
      "           validation cost         ->>>> 0.7064306395835122\n",
      "\n",
      "Iteration  1300 regularised cost is <<<<<- 0.3935494264330701\n",
      "           validation cost         ->>>> 0.7092804873566549\n",
      "\n",
      "Iteration  1400 regularised cost is <<<<<- 0.3852808228044492\n",
      "           validation cost         ->>>> 0.7125307164338\n",
      "\n"
     ]
    }
   ],
   "source": [
    "alpha=0.1 #initially i take large value of alpha ie lerning rate\n",
    "for i1 in range(0,1500):\n",
    "    [theta1 ,theta2 ,theta3, b1, b2, b3]=compute_grad(theta1,b1,theta2,b2,theta3,b3,X,y1,alpha)\n",
    "    if i1%100==0:\n",
    "        print(\"Iteration \",i1,end=\" \")\n",
    "        print(\"regularised cost is <<<<<-\",cost_reg(theta1,b1,theta2,b2,theta3,b3,X,y1,10000))\n",
    "        print(\"           validation cost         ->>>>\",cost_reg(theta1,b1,theta2,b2,theta3,b3,X_v,y1_v,2000))\n",
    "        print()"
   ]
  },
  {
   "cell_type": "markdown",
   "metadata": {},
   "source": [
    "* from regularisation cost and validation cost we can do early stopping\n",
    "* from both of these cost we can predict that it is better to stop at 2000 iteration and we are overfitting after 2000\n",
    "* since validation cost has started to increasing after 2000 iteration it means model is overfitting after that\n",
    "* we are not training our model on validation data we are only finding cost to do early stopping and avoid overfitting"
   ]
  },
  {
   "cell_type": "code",
   "execution_count": 32,
   "metadata": {},
   "outputs": [
    {
     "name": "stdout",
     "output_type": "stream",
     "text": [
      "A0 shape  (784, 10000)\n",
      "A2 shape  (25, 10000)\n"
     ]
    },
    {
     "data": {
      "text/plain": [
       "0.385243638622928"
      ]
     },
     "execution_count": 32,
     "metadata": {},
     "output_type": "execute_result"
    }
   ],
   "source": [
    "    A0=X #784 X 10000\n",
    "    print(\"A0 shape \",A0.shape)\n",
    "    Z1=theta1@A0+b1 #25 X 10000\n",
    "    A1=relu(Z1) #25 X 10000\n",
    "    Z2=theta2@A1+b2 # 25 X 10000\n",
    "    A2=relu(Z2)# 25 X 10000\n",
    "    print(\"A2 shape \",A2.shape)\n",
    "    Z3=theta3@A2+b3     #10 X 10000\n",
    "    A3=sigmoid(Z3)\n",
    "   \n",
    "    output=np.argmax(A3, axis=0) \n",
    "    \n",
    "    output=output.reshape((Y.shape)) # 10000 X 1 contain predicted digit after training\n",
    "    cost_reg(theta1,b1,theta2,b2,theta3,b3,X,y1)"
   ]
  },
  {
   "cell_type": "code",
   "execution_count": 33,
   "metadata": {},
   "outputs": [
    {
     "name": "stdout",
     "output_type": "stream",
     "text": [
      "Training accuracy: 94.72%\n"
     ]
    }
   ],
   "source": [
    "print(\"Training accuracy:\", str(100 * np.mean(output == Y)) + \"%\") #str is used to convert float to string to concat % with it"
   ]
  },
  {
   "cell_type": "markdown",
   "metadata": {},
   "source": [
    "* It is possible to achieve nearly 99 % accuracy using more iteration but our model will be ,then overfitting and will not generalize   to new data sets\n",
    "    "
   ]
  },
  {
   "cell_type": "markdown",
   "metadata": {},
   "source": [
    "# Training done\n",
    "* now we have achieved a trained model which we will used to test random data with 28 X 28 pixel digit converted to 784 pixel \n",
    "as 784 feature which shows grayscale value of each digit\n",
    " "
   ]
  },
  {
   "cell_type": "markdown",
   "metadata": {},
   "source": [
    "# Now testing of different data \n",
    "* we are using nearly half as training data for testing"
   ]
  },
  {
   "cell_type": "code",
   "execution_count": 34,
   "metadata": {},
   "outputs": [],
   "source": [
    "m_test=5000"
   ]
  },
  {
   "cell_type": "code",
   "execution_count": 35,
   "metadata": {},
   "outputs": [],
   "source": [
    "X_test=np.array(data)[15000:20000,1:]\n",
    "X_test=X_test.T # X is 400 X 5000\n",
    "Y_test=np.array(data)[15000:20000,:1]"
   ]
  },
  {
   "cell_type": "code",
   "execution_count": 36,
   "metadata": {},
   "outputs": [
    {
     "data": {
      "text/plain": [
       "(5000, 1)"
      ]
     },
     "execution_count": 36,
     "metadata": {},
     "output_type": "execute_result"
    }
   ],
   "source": [
    "Y_test.shape"
   ]
  },
  {
   "cell_type": "code",
   "execution_count": 37,
   "metadata": {},
   "outputs": [
    {
     "data": {
      "text/plain": [
       "(784, 5000)"
      ]
     },
     "execution_count": 37,
     "metadata": {},
     "output_type": "execute_result"
    }
   ],
   "source": [
    "X_test.shape"
   ]
  },
  {
   "cell_type": "code",
   "execution_count": 38,
   "metadata": {},
   "outputs": [
    {
     "name": "stdout",
     "output_type": "stream",
     "text": [
      "33.21581887755102 78.46480765004799\n"
     ]
    }
   ],
   "source": [
    "X1std=X_test.std()\n",
    "X1mn=X_test.mean()\n",
    "print(X1mn,X1std)\n",
    "X1_test=X_test-X_test.mean()\n",
    "X1_test=X1_test/X_test.std()"
   ]
  },
  {
   "cell_type": "code",
   "execution_count": 39,
   "metadata": {},
   "outputs": [],
   "source": [
    "X_test=X1_test"
   ]
  },
  {
   "cell_type": "code",
   "execution_count": 40,
   "metadata": {},
   "outputs": [
    {
     "name": "stdout",
     "output_type": "stream",
     "text": [
      "[[0. 0. 1. ... 0. 0. 0.]\n",
      " [1. 0. 0. ... 0. 0. 0.]\n",
      " [0. 0. 0. ... 0. 0. 0.]\n",
      " ...\n",
      " [0. 0. 0. ... 0. 0. 1.]\n",
      " [0. 0. 0. ... 0. 1. 0.]\n",
      " [0. 0. 0. ... 0. 0. 0.]]\n"
     ]
    }
   ],
   "source": [
    "y1_test=np.zeros([10,m_test])\n",
    "for u in range(0,5000):\n",
    "    y1_test[Y_test[u],u]=1\n",
    "print(y1_test)"
   ]
  },
  {
   "cell_type": "code",
   "execution_count": 41,
   "metadata": {},
   "outputs": [
    {
     "name": "stdout",
     "output_type": "stream",
     "text": [
      "A0 shape  (784, 5000)\n",
      "A2 shape  (25, 5000)\n"
     ]
    },
    {
     "data": {
      "text/plain": [
       "0.6507589424508747"
      ]
     },
     "execution_count": 41,
     "metadata": {},
     "output_type": "execute_result"
    }
   ],
   "source": [
    "    A0=X_test #5000 X 784\n",
    "    print(\"A0 shape \",A0.shape)\n",
    "    Z1=theta1@A0+b1 #25 X 5000\n",
    "    A1=relu(Z1) #25 X 50000\n",
    "    Z2=theta2@A1+b2 # 25 X 5000\n",
    "    A2=relu(Z2)# 25 X 5000\n",
    "    print(\"A2 shape \",A2.shape)\n",
    "    Z3=theta3@A2+b3     #10 X 5000\n",
    "    A3=sigmoid(Z3)\n",
    "   \n",
    "    output_t=np.argmax(A3, axis=0)\n",
    "    \n",
    "    output_t=output_t.reshape((Y_test.shape))\n",
    "    cost_reg(theta1,b1,theta2,b2,theta3,b3,X_test,y1_test,m_test)"
   ]
  },
  {
   "cell_type": "code",
   "execution_count": 42,
   "metadata": {},
   "outputs": [
    {
     "name": "stdout",
     "output_type": "stream",
     "text": [
      "Test accuracy: 91.18%\n"
     ]
    }
   ],
   "source": [
    "print(\"Test accuracy:\", str(100 * np.mean(output_t == Y_test)) + \"%\") #str is used to convert float to string to concat % with it"
   ]
  },
  {
   "cell_type": "markdown",
   "metadata": {},
   "source": [
    "# Thus our model has nerly 95% accuracy on training data and has nearly 90% to 91% accuracy on test data which is quite good"
   ]
  },
  {
   "cell_type": "markdown",
   "metadata": {},
   "source": [
    "# Testing 10 random digit "
   ]
  },
  {
   "cell_type": "code",
   "execution_count": 43,
   "metadata": {},
   "outputs": [
    {
     "name": "stdout",
     "output_type": "stream",
     "text": [
      "[[2]\n",
      " [5]\n",
      " [9]\n",
      " [9]\n",
      " [3]\n",
      " [6]\n",
      " [1]\n",
      " [0]\n",
      " [5]\n",
      " [1]\n",
      " [0]\n",
      " [2]\n",
      " [5]\n",
      " [5]\n",
      " [5]\n",
      " [7]\n",
      " [3]\n",
      " [0]\n",
      " [3]\n",
      " [7]]\n"
     ]
    }
   ],
   "source": [
    "X_rand=np.array(data)[10000:10020,1:]\n",
    "X_rand=X_rand.T # X is 400 X 5000\n",
    "Y_rand=np.array(data)[10000:10020,:1]\n",
    "print(Y_rand)"
   ]
  },
  {
   "cell_type": "code",
   "execution_count": 44,
   "metadata": {},
   "outputs": [],
   "source": [
    "X1_rand=X_rand-mn\n",
    "X1_rand=X1_rand/std"
   ]
  },
  {
   "cell_type": "code",
   "execution_count": 45,
   "metadata": {},
   "outputs": [],
   "source": [
    "X_rand=X1_rand"
   ]
  },
  {
   "cell_type": "code",
   "execution_count": 46,
   "metadata": {},
   "outputs": [
    {
     "name": "stdout",
     "output_type": "stream",
     "text": [
      "[[0. 0. 0. 0. 0. 0. 0. 1. 0. 0. 1. 0. 0. 0. 0. 0. 0. 1. 0. 0.]\n",
      " [0. 0. 0. 0. 0. 0. 1. 0. 0. 1. 0. 0. 0. 0. 0. 0. 0. 0. 0. 0.]\n",
      " [1. 0. 0. 0. 0. 0. 0. 0. 0. 0. 0. 1. 0. 0. 0. 0. 0. 0. 0. 0.]\n",
      " [0. 0. 0. 0. 1. 0. 0. 0. 0. 0. 0. 0. 0. 0. 0. 0. 1. 0. 1. 0.]\n",
      " [0. 0. 0. 0. 0. 0. 0. 0. 0. 0. 0. 0. 0. 0. 0. 0. 0. 0. 0. 0.]\n",
      " [0. 1. 0. 0. 0. 0. 0. 0. 1. 0. 0. 0. 1. 1. 1. 0. 0. 0. 0. 0.]\n",
      " [0. 0. 0. 0. 0. 1. 0. 0. 0. 0. 0. 0. 0. 0. 0. 0. 0. 0. 0. 0.]\n",
      " [0. 0. 0. 0. 0. 0. 0. 0. 0. 0. 0. 0. 0. 0. 0. 1. 0. 0. 0. 1.]\n",
      " [0. 0. 0. 0. 0. 0. 0. 0. 0. 0. 0. 0. 0. 0. 0. 0. 0. 0. 0. 0.]\n",
      " [0. 0. 1. 1. 0. 0. 0. 0. 0. 0. 0. 0. 0. 0. 0. 0. 0. 0. 0. 0.]]\n"
     ]
    }
   ],
   "source": [
    "y1_rand=np.zeros([10,20]) # nearly zero to avoid any problem\n",
    "for u in range(0,20):\n",
    "    y1_rand[Y_rand[u],u]=1\n",
    "print(y1_rand)"
   ]
  },
  {
   "cell_type": "markdown",
   "metadata": {},
   "source": [
    "* appling our algorithm to predict digit uxing pixel value given\n",
    "* pixel value is given in X_rand and we get digit in output_rand"
   ]
  },
  {
   "cell_type": "code",
   "execution_count": 47,
   "metadata": {},
   "outputs": [
    {
     "name": "stdout",
     "output_type": "stream",
     "text": [
      "A0 shape  (784, 20)\n",
      "A2 shape  (25, 20)\n"
     ]
    }
   ],
   "source": [
    "   \n",
    "    A0=X_rand #20 X 784\n",
    "    print(\"A0 shape \",A0.shape)\n",
    "    Z1=theta1@A0+b1 #25 X 5000\n",
    "    A1=relu(Z1) #25 X 50000\n",
    "    Z2=theta2@A1+b2 # 25 X 5000\n",
    "    A2=relu(Z2)# 25 X 5000\n",
    "    print(\"A2 shape \",A2.shape)\n",
    "    Z3=theta3@A2+b3     #10 X 5000\n",
    "    A3=sigmoid(Z3)\n",
    "   \n",
    "    output_rand=np.argmax(A3, axis=0)\n",
    "    \n",
    "    output_rand=output_rand.reshape((Y_rand.shape))"
   ]
  },
  {
   "cell_type": "code",
   "execution_count": 48,
   "metadata": {},
   "outputs": [
    {
     "name": "stdout",
     "output_type": "stream",
     "text": [
      " Actual digit                Prediction\n",
      "[2]                 [6]\n",
      "[5]                 [3]\n",
      "[9]                 [9]\n",
      "[9]                 [9]\n",
      "[3]                 [3]\n",
      "[6]                 [6]\n",
      "[1]                 [1]\n",
      "[0]                 [0]\n",
      "[5]                 [5]\n",
      "[1]                 [1]\n",
      "[0]                 [0]\n",
      "[2]                 [2]\n",
      "[5]                 [6]\n",
      "[5]                 [5]\n",
      "[5]                 [5]\n",
      "[7]                 [7]\n",
      "[3]                 [3]\n",
      "[0]                 [0]\n",
      "[3]                 [3]\n",
      "[7]                 [7]\n"
     ]
    }
   ],
   "source": [
    "print(\" Actual digit                Prediction\")\n",
    "for i1 in range(0,20):\n",
    "    print(Y_rand[i1],\"               \",output_rand[i1])\n",
    "  "
   ]
  },
  {
   "cell_type": "code",
   "execution_count": 49,
   "metadata": {},
   "outputs": [
    {
     "name": "stdout",
     "output_type": "stream",
     "text": [
      "33.545636479591835 78.81471081940502\n"
     ]
    }
   ],
   "source": [
    "print(mn,std)"
   ]
  },
  {
   "cell_type": "code",
   "execution_count": 50,
   "metadata": {},
   "outputs": [
    {
     "name": "stdout",
     "output_type": "stream",
     "text": [
      "Test accuracy: 85.0%\n"
     ]
    }
   ],
   "source": [
    "print(\"Test accuracy:\", str(100 * np.mean(output_rand == Y_rand)) + \"%\") #str is used to convert float to string to concat % with it"
   ]
  },
  {
   "cell_type": "code",
   "execution_count": 51,
   "metadata": {},
   "outputs": [
    {
     "data": {
      "image/png": "[encoded data removed]",
      "text/plain": [
       "<Figure size 432x288 with 1 Axes>"
      ]
     },
     "metadata": {
      "needs_background": "light"
     },
     "output_type": "display_data"
    },
    {
     "name": "stdout",
     "output_type": "stream",
     "text": [
      "         My algorithm predict it to be   [6]\n",
      "            Actually it is  [2]\n",
      "\n"
     ]
    },
    {
     "data": {
      "image/png": "[encoded data removed]",
      "text/plain": [
       "<Figure size 432x288 with 1 Axes>"
      ]
     },
     "metadata": {
      "needs_background": "light"
     },
     "output_type": "display_data"
    },
    {
     "name": "stdout",
     "output_type": "stream",
     "text": [
      "         My algorithm predict it to be   [3]\n",
      "            Actually it is  [5]\n",
      "\n"
     ]
    },
    {
     "data": {
      "image/png": "[encoded data removed]",
      "text/plain": [
       "<Figure size 432x288 with 1 Axes>"
      ]
     },
     "metadata": {
      "needs_background": "light"
     },
     "output_type": "display_data"
    },
    {
     "name": "stdout",
     "output_type": "stream",
     "text": [
      "         My algorithm predict it to be   [9]\n",
      "            Actually it is  [9]\n",
      "\n"
     ]
    },
    {
     "data": {
      "image/png": "[encoded data removed]",
      "text/plain": [
       "<Figure size 432x288 with 1 Axes>"
      ]
     },
     "metadata": {
      "needs_background": "light"
     },
     "output_type": "display_data"
    },
    {
     "name": "stdout",
     "output_type": "stream",
     "text": [
      "         My algorithm predict it to be   [9]\n",
      "            Actually it is  [9]\n",
      "\n"
     ]
    },
    {
     "data": {
      "image/png": "[encoded data removed]",
      "text/plain": [
       "<Figure size 432x288 with 1 Axes>"
      ]
     },
     "metadata": {
      "needs_background": "light"
     },
     "output_type": "display_data"
    },
    {
     "name": "stdout",
     "output_type": "stream",
     "text": [
      "         My algorithm predict it to be   [3]\n",
      "            Actually it is  [3]\n",
      "\n"
     ]
    },
    {
     "data": {
      "image/png": "[encoded data removed]",
      "text/plain": [
       "<Figure size 432x288 with 1 Axes>"
      ]
     },
     "metadata": {
      "needs_background": "light"
     },
     "output_type": "display_data"
    },
    {
     "name": "stdout",
     "output_type": "stream",
     "text": [
      "         My algorithm predict it to be   [6]\n",
      "            Actually it is  [6]\n",
      "\n"
     ]
    },
    {
     "data": {
      "image/png": "[encoded data removed]",
      "text/plain": [
       "<Figure size 432x288 with 1 Axes>"
      ]
     },
     "metadata": {
      "needs_background": "light"
     },
     "output_type": "display_data"
    },
    {
     "name": "stdout",
     "output_type": "stream",
     "text": [
      "         My algorithm predict it to be   [1]\n",
      "            Actually it is  [1]\n",
      "\n"
     ]
    },
    {
     "data": {
      "image/png": "[encoded data removed]",
      "text/plain": [
       "<Figure size 432x288 with 1 Axes>"
      ]
     },
     "metadata": {
      "needs_background": "light"
     },
     "output_type": "display_data"
    },
    {
     "name": "stdout",
     "output_type": "stream",
     "text": [
      "         My algorithm predict it to be   [0]\n",
      "            Actually it is  [0]\n",
      "\n"
     ]
    },
    {
     "data": {
      "image/png": "[encoded data removed]",
      "text/plain": [
       "<Figure size 432x288 with 1 Axes>"
      ]
     },
     "metadata": {
      "needs_background": "light"
     },
     "output_type": "display_data"
    },
    {
     "name": "stdout",
     "output_type": "stream",
     "text": [
      "         My algorithm predict it to be   [5]\n",
      "            Actually it is  [5]\n",
      "\n"
     ]
    },
    {
     "data": {
      "image/png": "[encoded data removed]",
      "text/plain": [
       "<Figure size 432x288 with 1 Axes>"
      ]
     },
     "metadata": {
      "needs_background": "light"
     },
     "output_type": "display_data"
    },
    {
     "name": "stdout",
     "output_type": "stream",
     "text": [
      "         My algorithm predict it to be   [1]\n",
      "            Actually it is  [1]\n",
      "\n"
     ]
    },
    {
     "data": {
      "image/png": "[encoded data removed]",
      "text/plain": [
       "<Figure size 432x288 with 1 Axes>"
      ]
     },
     "metadata": {
      "needs_background": "light"
     },
     "output_type": "display_data"
    },
    {
     "name": "stdout",
     "output_type": "stream",
     "text": [
      "         My algorithm predict it to be   [0]\n",
      "            Actually it is  [0]\n",
      "\n"
     ]
    },
    {
     "data": {
      "image/png": "[encoded data removed]",
      "text/plain": [
       "<Figure size 432x288 with 1 Axes>"
      ]
     },
     "metadata": {
      "needs_background": "light"
     },
     "output_type": "display_data"
    },
    {
     "name": "stdout",
     "output_type": "stream",
     "text": [
      "         My algorithm predict it to be   [2]\n",
      "            Actually it is  [2]\n",
      "\n"
     ]
    },
    {
     "data": {
      "image/png": "[encoded data removed]",
      "text/plain": [
       "<Figure size 432x288 with 1 Axes>"
      ]
     },
     "metadata": {
      "needs_background": "light"
     },
     "output_type": "display_data"
    },
    {
     "name": "stdout",
     "output_type": "stream",
     "text": [
      "         My algorithm predict it to be   [6]\n",
      "            Actually it is  [5]\n",
      "\n"
     ]
    },
    {
     "data": {
      "image/png": "[encoded data removed]",
      "text/plain": [
       "<Figure size 432x288 with 1 Axes>"
      ]
     },
     "metadata": {
      "needs_background": "light"
     },
     "output_type": "display_data"
    },
    {
     "name": "stdout",
     "output_type": "stream",
     "text": [
      "         My algorithm predict it to be   [5]\n",
      "            Actually it is  [5]\n",
      "\n"
     ]
    },
    {
     "data": {
      "image/png": "[encoded data removed]",
      "text/plain": [
       "<Figure size 432x288 with 1 Axes>"
      ]
     },
     "metadata": {
      "needs_background": "light"
     },
     "output_type": "display_data"
    },
    {
     "name": "stdout",
     "output_type": "stream",
     "text": [
      "         My algorithm predict it to be   [5]\n",
      "            Actually it is  [5]\n",
      "\n"
     ]
    },
    {
     "data": {
      "image/png": "[encoded data removed]",
      "text/plain": [
       "<Figure size 432x288 with 1 Axes>"
      ]
     },
     "metadata": {
      "needs_background": "light"
     },
     "output_type": "display_data"
    },
    {
     "name": "stdout",
     "output_type": "stream",
     "text": [
      "         My algorithm predict it to be   [7]\n",
      "            Actually it is  [7]\n",
      "\n"
     ]
    },
    {
     "data": {
      "image/png": "[encoded data removed]",
      "text/plain": [
       "<Figure size 432x288 with 1 Axes>"
      ]
     },
     "metadata": {
      "needs_background": "light"
     },
     "output_type": "display_data"
    },
    {
     "name": "stdout",
     "output_type": "stream",
     "text": [
      "         My algorithm predict it to be   [3]\n",
      "            Actually it is  [3]\n",
      "\n"
     ]
    },
    {
     "data": {
      "image/png": "[encoded data removed]",
      "text/plain": [
       "<Figure size 432x288 with 1 Axes>"
      ]
     },
     "metadata": {
      "needs_background": "light"
     },
     "output_type": "display_data"
    },
    {
     "name": "stdout",
     "output_type": "stream",
     "text": [
      "         My algorithm predict it to be   [0]\n",
      "            Actually it is  [0]\n",
      "\n"
     ]
    },
    {
     "data": {
      "image/png": "[encoded data removed]",
      "text/plain": [
       "<Figure size 432x288 with 1 Axes>"
      ]
     },
     "metadata": {
      "needs_background": "light"
     },
     "output_type": "display_data"
    },
    {
     "name": "stdout",
     "output_type": "stream",
     "text": [
      "         My algorithm predict it to be   [3]\n",
      "            Actually it is  [3]\n",
      "\n"
     ]
    },
    {
     "data": {
      "image/png": "[encoded data removed]",
      "text/plain": [
       "<Figure size 432x288 with 1 Axes>"
      ]
     },
     "metadata": {
      "needs_background": "light"
     },
     "output_type": "display_data"
    },
    {
     "name": "stdout",
     "output_type": "stream",
     "text": [
      "         My algorithm predict it to be   [7]\n",
      "            Actually it is  [7]\n",
      "\n"
     ]
    }
   ],
   "source": [
    "X_rand1=(X_rand.T)*256\n",
    "import matplotlib.pyplot as plt\n",
    "import numpy as np\n",
    " \n",
    "#X = np.random.random((100, 100)) # sample 2D array\n",
    "for i1 in range(0,20):\n",
    "    plt.imshow(X_rand1[i1].reshape([28,28]), cmap=\"gray\")\n",
    "    plt.show()\n",
    "    print(\"         My algorithm predict it to be  \",output_rand[i1])\n",
    "    print(\"            Actually it is \",Y_rand[i1])\n",
    "    \n",
    "     \n",
    "    print()\n",
    "    "
   ]
  },
  {
   "cell_type": "markdown",
   "metadata": {},
   "source": [
    "# For 1st number even I had hard time guessing what it is !"
   ]
  },
  {
   "cell_type": "code",
   "execution_count": null,
   "metadata": {},
   "outputs": [],
   "source": []
  }
 ],
 "metadata": {
  "kernelspec": {
   "display_name": "Python 3",
   "language": "python",
   "name": "python3"
  },
  "language_info": {
   "codemirror_mode": {
    "name": "ipython",
    "version": 3
   },
   "file_extension": ".py",
   "mimetype": "text/x-python",
   "name": "python",
   "nbconvert_exporter": "python",
   "pygments_lexer": "ipython3",
   "version": "3.7.4"
  }
 },
 "nbformat": 4,
 "nbformat_minor": 2
}
