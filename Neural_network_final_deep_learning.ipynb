{
 "cells": [
  {
   "cell_type": "code",
   "execution_count": 1,
   "metadata": {},
   "outputs": [],
   "source": [
    "from scipy.io import loadmat\n",
    "import pandas as pd\n",
    "import numpy as np\n",
    "import matplotlib.pyplot as plt  #importing libraray\n",
    "import math\n",
    "import scipy.optimize as opt"
   ]
  },
  {
   "cell_type": "code",
   "execution_count": 2,
   "metadata": {},
   "outputs": [
    {
     "name": "stdout",
     "output_type": "stream",
     "text": [
      "0.25\n"
     ]
    }
   ],
   "source": [
    "\n",
    "\n",
    "def sigmoid(x):\n",
    "    return 1 / (1 + np.exp(-x))  #sigmoid fn\n",
    "def sigmoidgrad(z): #it compute derivate of sigmoid of the fn\n",
    "    return sigmoid(z)*(1-sigmoid(z))\n",
    "\n",
    "print(sigmoidgrad(0))\n"
   ]
  },
  {
   "cell_type": "code",
   "execution_count": 3,
   "metadata": {
    "scrolled": true
   },
   "outputs": [],
   "source": [
    "data = loadmat('C:\\\\Users\\\\PRASHANT\\\\Desktop\\\\coding dec19\\\\file_neural\\\\ex3data1.mat')"
   ]
  },
  {
   "cell_type": "markdown",
   "metadata": {},
   "source": [
    "* data is present inside a matlab file\n",
    "* data['X'] is 5000 X 400 size matrix \n",
    "* 400 column is for 20 X 20 pixel image\n",
    "* each pixel contain value denoting intensity from 0 to 255\n",
    "* output data['y'] is 5000 X 1 matrix , which actually represnt that no \n",
    "* we take out data['X'] as X and add a column of ones hence X becomes 5000 X 401 matrix\n",
    "* we take out data['y'] in Y\n",
    "* we replace all element in Y whose value is 10 by 0\n",
    "* we comput y1 matrix which is 5000 X 10 matrix which contain 1 at poition which is value of Y in that row\n",
    "* we compute A2 matrix which result of forward propagation and it 5000 X 10 matrix\n",
    "* from A2 we compute ouput matrix which contain digit from 1 to 9 in 5000 X 1 matrix\n",
    "* we compare output with Y matrix to find accuracy"
   ]
  },
  {
   "cell_type": "code",
   "execution_count": 4,
   "metadata": {},
   "outputs": [
    {
     "data": {
      "text/plain": [
       "{'__header__': b'MATLAB 5.0 MAT-file, Platform: GLNXA64, Created on: Sun Oct 16 13:09:09 2011',\n",
       " '__version__': '1.0',\n",
       " '__globals__': [],\n",
       " 'X': array([[0., 0., 0., ..., 0., 0., 0.],\n",
       "        [0., 0., 0., ..., 0., 0., 0.],\n",
       "        [0., 0., 0., ..., 0., 0., 0.],\n",
       "        ...,\n",
       "        [0., 0., 0., ..., 0., 0., 0.],\n",
       "        [0., 0., 0., ..., 0., 0., 0.],\n",
       "        [0., 0., 0., ..., 0., 0., 0.]]),\n",
       " 'y': array([[10],\n",
       "        [10],\n",
       "        [10],\n",
       "        ...,\n",
       "        [ 9],\n",
       "        [ 9],\n",
       "        [ 9]], dtype=uint8)}"
      ]
     },
     "execution_count": 4,
     "metadata": {},
     "output_type": "execute_result"
    }
   ],
   "source": [
    "data #data is present in matlab file\n"
   ]
  },
  {
   "cell_type": "code",
   "execution_count": 5,
   "metadata": {},
   "outputs": [
    {
     "name": "stdout",
     "output_type": "stream",
     "text": [
      "1.127688299158888\n",
      "-0.13196323019852488\n"
     ]
    }
   ],
   "source": [
    "print(np.max(data['X']))\n",
    "print(np.min(data['X']))"
   ]
  },
  {
   "cell_type": "code",
   "execution_count": 6,
   "metadata": {},
   "outputs": [
    {
     "data": {
      "text/plain": [
       "dict"
      ]
     },
     "execution_count": 6,
     "metadata": {},
     "output_type": "execute_result"
    }
   ],
   "source": [
    "type(data)"
   ]
  },
  {
   "cell_type": "code",
   "execution_count": 7,
   "metadata": {},
   "outputs": [],
   "source": [
    "X=data['X']\n",
    "X=X.T # X is 400 X 5000\n",
    "Y=data['y']"
   ]
  },
  {
   "cell_type": "code",
   "execution_count": 8,
   "metadata": {},
   "outputs": [
    {
     "name": "stdout",
     "output_type": "stream",
     "text": [
      "(400, 5000)\n",
      "(25, 400) (25, 1) (25, 25) (25, 1) (10, 25) (10, 1)\n"
     ]
    }
   ],
   "source": [
    "m=5000\n",
    "theta1=np.random.uniform(-0.12,0.12,(25,400))\n",
    "b1=np.zeros([25,1])\n",
    "#z1= theta1 @X +b1\n",
    "#A1= sigmoid(z1)\n",
    "theta2=np.random.uniform(-0.12,0.12,(25,25))\n",
    "b2=np.zeros([25,1])\n",
    "#z2= theta2 @ A1 +b2\n",
    "# A2= sigmoid(z2) \n",
    "theta3=np.random.uniform(-0.12,0.12,(10,25))\n",
    "b3=np.zeros([10,1])\n",
    "#z3= theta3 @ A2 +b3\n",
    "# A3= sigmoid(z3) \n",
    "print(X.shape)\n",
    "print(theta1.shape,b1.shape,theta2.shape,b2.shape,theta3.shape,b3.shape)\n"
   ]
  },
  {
   "cell_type": "code",
   "execution_count": 9,
   "metadata": {},
   "outputs": [
    {
     "name": "stdout",
     "output_type": "stream",
     "text": [
      "(400, 5000) (5000, 1)\n"
     ]
    }
   ],
   "source": [
    "print(X.shape,Y.shape)"
   ]
  },
  {
   "cell_type": "code",
   "execution_count": 10,
   "metadata": {},
   "outputs": [
    {
     "name": "stdout",
     "output_type": "stream",
     "text": [
      "(5000, 1) <class 'numpy.ndarray'>\n",
      "[[0]\n",
      " [0]\n",
      " [0]\n",
      " ...\n",
      " [9]\n",
      " [9]\n",
      " [9]]\n"
     ]
    }
   ],
   "source": [
    "\n",
    "print(Y.shape,type(Y))\n",
    "np.place(Y, Y == 10, 0)\n",
    "print(Y[0:5000,:])"
   ]
  },
  {
   "cell_type": "code",
   "execution_count": 11,
   "metadata": {},
   "outputs": [
    {
     "name": "stdout",
     "output_type": "stream",
     "text": [
      "(5000, 1) <class 'numpy.ndarray'>\n",
      "(400, 5000) <class 'numpy.ndarray'>\n",
      "[[0]\n",
      " [0]\n",
      " [0]\n",
      " ...\n",
      " [9]\n",
      " [9]\n",
      " [9]]\n"
     ]
    }
   ],
   "source": [
    "\n",
    "\n",
    "print(Y.shape,type(Y))\n",
    "print(X.shape,type(X))\n",
    "print(Y)"
   ]
  },
  {
   "cell_type": "code",
   "execution_count": 12,
   "metadata": {},
   "outputs": [
    {
     "name": "stdout",
     "output_type": "stream",
     "text": [
      "(25, 400)\n",
      "(25, 25)\n",
      "(10, 25)\n",
      "(400, 5000)\n",
      "<class 'numpy.ndarray'>\n"
     ]
    }
   ],
   "source": [
    "n_label=10\n",
    "\n",
    "\n",
    "print(theta1.shape)\n",
    "print(theta2.shape)\n",
    "print(theta3.shape)\n",
    "\n",
    "print(X.shape)\n",
    "\n",
    "print(type(X))"
   ]
  },
  {
   "cell_type": "code",
   "execution_count": 13,
   "metadata": {},
   "outputs": [
    {
     "name": "stdout",
     "output_type": "stream",
     "text": [
      "A0 shape  (400, 5000)\n",
      "A1 shape  (25, 5000)\n"
     ]
    }
   ],
   "source": [
    "A0=X\n",
    "print(\"A0 shape \",A0.shape)\n",
    "Z1=theta1@A0+b1\n",
    "A1=sigmoid(Z1)\n",
    "print(\"A1 shape \",A1.shape)\n"
   ]
  },
  {
   "cell_type": "code",
   "execution_count": 14,
   "metadata": {},
   "outputs": [
    {
     "name": "stdout",
     "output_type": "stream",
     "text": [
      "(25, 5000)\n",
      "A2 shape  (25, 5000)\n",
      "A3 shape  (10, 5000)\n",
      "output shape  (5000,)\n",
      "[[0]\n",
      " [0]\n",
      " [0]\n",
      " ...\n",
      " [9]\n",
      " [9]\n",
      " [9]]\n",
      "output shape (5000, 1)\n",
      "[[3]\n",
      " [3]\n",
      " [3]\n",
      " ...\n",
      " [3]\n",
      " [3]\n",
      " [3]]\n"
     ]
    }
   ],
   "source": [
    "\n",
    "\n",
    "#print(\"A1 is \",A1)\n",
    "print(A1.shape)\n",
    "Z2=theta2@A1+b2\n",
    "A2=sigmoid(Z2)\n",
    "print(\"A2 shape \",A2.shape)\n",
    "Z3=theta3@A2+b3\n",
    "A3=sigmoid(Z3)\n",
    "print(\"A3 shape \",A3.shape)\n",
    "output=np.argmax(A3, axis=0)\n",
    "print(\"output shape \",output.shape)\n",
    "print(Y)\n",
    "output=output.reshape((Y.shape))\n",
    "print(\"output shape\",output.shape)\n",
    "print(output)\n",
    "\n",
    "\n"
   ]
  },
  {
   "cell_type": "code",
   "execution_count": 15,
   "metadata": {},
   "outputs": [
    {
     "name": "stdout",
     "output_type": "stream",
     "text": [
      "Training accuracy: 10.0%\n"
     ]
    }
   ],
   "source": [
    "print(\"Training accuracy:\", str(100 * np.mean(output == Y)) + \"%\")"
   ]
  },
  {
   "cell_type": "code",
   "execution_count": 16,
   "metadata": {},
   "outputs": [
    {
     "name": "stdout",
     "output_type": "stream",
     "text": [
      "(5000, 1)\n",
      "(5000, 1)\n"
     ]
    }
   ],
   "source": [
    "print(Y.shape)\n",
    "print(output.shape)\n"
   ]
  },
  {
   "cell_type": "code",
   "execution_count": 17,
   "metadata": {},
   "outputs": [
    {
     "name": "stdout",
     "output_type": "stream",
     "text": [
      "[[1. 1. 1. ... 0. 0. 0.]\n",
      " [0. 0. 0. ... 0. 0. 0.]\n",
      " [0. 0. 0. ... 0. 0. 0.]\n",
      " ...\n",
      " [0. 0. 0. ... 0. 0. 0.]\n",
      " [0. 0. 0. ... 0. 0. 0.]\n",
      " [0. 0. 0. ... 1. 1. 1.]]\n"
     ]
    }
   ],
   "source": [
    "m=5000\n",
    "y1=np.zeros([10,m])\n",
    "for u in range(0,5000):\n",
    "    y1[Y[u],u]=1\n",
    "print(y1)"
   ]
  },
  {
   "cell_type": "code",
   "execution_count": 18,
   "metadata": {},
   "outputs": [
    {
     "name": "stdout",
     "output_type": "stream",
     "text": [
      "(5000, 1)\n",
      "(10, 5000)\n",
      "(10, 5000)\n"
     ]
    }
   ],
   "source": [
    "print(output.shape)\n",
    "print(y1.shape)\n",
    "print(A3.shape)"
   ]
  },
  {
   "cell_type": "code",
   "execution_count": 19,
   "metadata": {},
   "outputs": [
    {
     "name": "stdout",
     "output_type": "stream",
     "text": [
      "unregularised cost is  7.324443116988227\n"
     ]
    }
   ],
   "source": [
    "J_cost1=(y1*np.log(A3))+((1-y1)*np.log(1-A3)) \n",
    "#J_cost2=sum(np.square(thete1))+sum(np.square(theta2))\n",
    "J_final=np.sum(J_cost1)/(-m)\n",
    "print(\"unregularised cost is \",J_final)"
   ]
  },
  {
   "cell_type": "code",
   "execution_count": 20,
   "metadata": {},
   "outputs": [
    {
     "data": {
      "text/plain": [
       "(400, 5000)"
      ]
     },
     "execution_count": 20,
     "metadata": {},
     "output_type": "execute_result"
    }
   ],
   "source": [
    "X.shape"
   ]
  },
  {
   "cell_type": "code",
   "execution_count": 21,
   "metadata": {},
   "outputs": [
    {
     "name": "stdout",
     "output_type": "stream",
     "text": [
      "regularised cost is  7.329572425777809\n",
      "7.329572425777809\n"
     ]
    }
   ],
   "source": [
    "def cost_reg(theta1,b1,theta2,b2,theta3,b3,X,y1):\n",
    "    \n",
    "    \n",
    "    \n",
    "    lambda1=1\n",
    "    A0=X\n",
    "    \n",
    "    Z1=theta1@A0+b1\n",
    "    A1=sigmoid(Z1)\n",
    "    Z2=theta2@A1+b2\n",
    "    A2=sigmoid(Z2)\n",
    "    \n",
    "    Z3=theta3@A2+b3\n",
    "    A3=sigmoid(Z3)\n",
    "    \n",
    "    \n",
    "    \n",
    "    \n",
    "    \n",
    "    \n",
    "    \"\"\"\"\n",
    "    \n",
    "    A11=sigmoid(X.dot(theta1.T))\n",
    "    \n",
    "    a1=np.ones([A11.shape[0],1])\n",
    "    A1=np.hstack([a1,A11])\n",
    "    A2=sigmoid(A1.dot(theta2.T))\n",
    "   \"\"\"\n",
    "    J_cost1=np.sum((y1*np.log(A3))+((1-y1)*np.log(1-A3)) )\n",
    "    J_cost2=np.sum(np.square(theta1))+np.sum(np.square(theta2))+np.sum(np.square(theta3))\n",
    "    J_final=(J_cost1)/(-m)+(lambda1/(2*m))*J_cost2\n",
    "    print(\"regularised cost is \",J_final)\n",
    "    return J_final\n",
    "\n",
    "print(cost_reg(theta1,b1,theta2,b2,theta3,b3,X,y1))"
   ]
  },
  {
   "cell_type": "code",
   "execution_count": null,
   "metadata": {},
   "outputs": [],
   "source": []
  },
  {
   "cell_type": "code",
   "execution_count": 22,
   "metadata": {},
   "outputs": [],
   "source": [
    "def compute_grad(theta1,b1,theta2,b2,theta3,b3,X,y1,alpha):\n",
    "    m=5000\n",
    "    \n",
    "    #forward propagation\n",
    "    A0=X #400 X 5000\n",
    "    \n",
    "    Z1=theta1@A0+b1 #25 X 5000\n",
    "    A1=sigmoid(Z1) #25 X 50000\n",
    "    Z2=theta2@A1+b2 # 25 X 5000\n",
    "    A2=sigmoid(Z2)# 25 X 5000\n",
    "   \n",
    "    Z3=theta3@A2+b3     #10 X 5000\n",
    "    A3=sigmoid(Z3)      #10 X 5000\n",
    "    \n",
    "    \n",
    "    \n",
    "    '''\n",
    "    A11=sigmoid(X.dot(theta1.T))\n",
    "   \n",
    "    a1=np.ones([A11.shape[0],1])\n",
    "    A1=np.hstack([a1,A11])\n",
    "    A2=sigmoid(A1.dot(theta2.T))\n",
    "   '''\n",
    "      \n",
    "     #backward propagation  \n",
    "    \n",
    "    delta3=A3-y1 #10 X 5000\n",
    "    Delta3=(delta3@(A2.T))/m #a3=A1  #dw3      10 X 25\n",
    "    db3=np.sum(delta3,axis=1)/m  # 10 X 1\n",
    "    db3=db3.reshape((10,1))\n",
    "    \n",
    "    #delta2=((delta3)@(theta3))*(sigmoidgrad(A2)) # 10 X5000\n",
    "    delta2=((theta3.T)@(delta3))*(sigmoidgrad(A2)) # 25 X5000\n",
    "    Delta2=(delta2@(A1.T))/m #a1=A1  #dw2        25 X 25\n",
    "    db2=np.sum(delta2,axis=1) /m        # 25 X 1\n",
    "    db2=db2.reshape((25,1))\n",
    "    \n",
    "    delta1=((theta2.T)@(delta2))*(sigmoidgrad(A1)) # 25 X5000\n",
    "    Delta1=(delta1@(A0.T))/m #a1=A1  #dw2        25 X 400\n",
    "    db1=np.sum(delta1,axis=1) /m        # 25 X 1\n",
    "    db1=db1.reshape((25,1))\n",
    "    \n",
    "    theta3=theta3-(alpha)*Delta3\n",
    "    theta2=theta2-(alpha)*Delta2\n",
    "    theta1=theta1-(alpha)*Delta1\n",
    "    b1=b1-(alpha)*db1\n",
    "    b2=b2-(alpha)*db2\n",
    "    b3=b3-(alpha)*db3\n",
    "    return [theta1 ,theta2 ,theta3, b1, b2, b3]\n",
    "    \n",
    "    \"\"\"\"\n",
    "    delta1=((delta2)@(theta2))*(sigmoidgrad(A1))   # 10 X \n",
    "    Delta1=((delta2.T)@X)/m #a0=x    #dw1 \n",
    "    db1=np.sum(delta1,axis=0,keepdim=True)\n",
    "    \n",
    "    \"\"\"\n",
    "    \n",
    "    \n",
    "    \n",
    "    \n",
    "    \n",
    "    '''\n",
    "    delta3=A2-y1                                           #dz2\n",
    "    delta2=((delta3)@(theta2[:,1:26]))*(sigmoidgrad(A11))  #dz1\n",
    "                                        \n",
    "   \n",
    "    Delta1=((delta2.T)@X)/m #a1=x    #dw1 \n",
    "    Delta2=((delta3.T)@A1)/m #a2=A1  #dw2 \n",
    "    ttheta1=np.hstack([np.zeros([theta1.shape[0],1]),theta1[:,1:]]) #db1\n",
    "    ttheta2=np.hstack([np.zeros([theta2.shape[0],1]),theta2[:,1:]]) #db2\n",
    "                                        \n",
    "    Theta1_grad = Delta1 +  ttheta1/m  # 1 is for lambda  in numerator ie lambda1=1\n",
    "    Theta2_grad = Delta2 +  ttheta2/m\n",
    "    \n",
    "    theta2=theta2-(alpha)*Theta2_grad\n",
    "    theta1=theta1-(alpha)*Theta1_grad\n",
    "   \n",
    "                                       \n",
    "    #grad = np.concatenate([Theta1_grad.ravel(), Theta2_grad.ravel()])\n",
    "\n",
    "    return [theta2,theta1]\n",
    "    \n",
    "  '''  \n",
    "    \n",
    "    \n",
    "    "
   ]
  },
  {
   "cell_type": "code",
   "execution_count": 23,
   "metadata": {},
   "outputs": [],
   "source": [
    "y1=np.zeros([10,m])\n",
    "for u in range(0,5000):\n",
    "        y1[Y[u],u]=1\n",
    "\n"
   ]
  },
  {
   "cell_type": "code",
   "execution_count": 24,
   "metadata": {},
   "outputs": [
    {
     "name": "stdout",
     "output_type": "stream",
     "text": [
      "regularised cost is  6.158676790765292\n",
      "regularised cost is  3.2523283754526355\n",
      "regularised cost is  3.233916650948533\n",
      "regularised cost is  2.925384975926681\n",
      "regularised cost is  2.3556350310111545\n",
      "regularised cost is  2.1713501513324074\n"
     ]
    }
   ],
   "source": [
    "alpha=0.1 #initially i take large value of alpha ie lerning rate\n",
    "for i1 in range(0,3000):\n",
    "    [theta1 ,theta2 ,theta3, b1, b2, b3]=compute_grad(theta1,b1,theta2,b2,theta3,b3,X,y1,alpha)\n",
    "    if i1%500==0:\n",
    "        #print(theta2)\n",
    "        cost_reg(theta1,b1,theta2,b2,theta3,b3,X,y1)"
   ]
  },
  {
   "cell_type": "code",
   "execution_count": 25,
   "metadata": {},
   "outputs": [
    {
     "name": "stdout",
     "output_type": "stream",
     "text": [
      "regularised cost is  1.8896915256585474\n",
      "regularised cost is  1.7813733684795834\n",
      "regularised cost is  1.6794535506851969\n",
      "regularised cost is  1.5925272378625344\n",
      "regularised cost is  1.5256831216656632\n",
      "regularised cost is  1.4776586476864393\n"
     ]
    }
   ],
   "source": [
    "alpha=0.03 #initially i take large value of alpha ie lerning rate\n",
    "for i1 in range(0,3000):\n",
    "    [theta1 ,theta2 ,theta3, b1, b2, b3]=compute_grad(theta1,b1,theta2,b2,theta3,b3,X,y1,alpha)\n",
    "    if i1%500==0:\n",
    "        #print(theta2)\n",
    "        cost_reg(theta1,b1,theta2,b2,theta3,b3,X,y1)"
   ]
  },
  {
   "cell_type": "code",
   "execution_count": 26,
   "metadata": {},
   "outputs": [
    {
     "name": "stdout",
     "output_type": "stream",
     "text": [
      "regularised cost is  1.4441634272439239\n",
      "regularised cost is  1.4423298709737613\n",
      "regularised cost is  1.4405405039010482\n",
      "regularised cost is  1.438794335104414\n",
      "regularised cost is  1.437090402047085\n"
     ]
    }
   ],
   "source": [
    "alpha=0.001\n",
    "for i1 in range(0,5000):\n",
    "    [theta1 ,theta2 ,theta3, b1, b2, b3]=compute_grad(theta1,b1,theta2,b2,theta3,b3,X,y1,alpha)\n",
    "    if i1%1000==0:\n",
    "        #print(theta2)\n",
    "        cost_reg(theta1,b1,theta2,b2,theta3,b3,X,y1)"
   ]
  },
  {
   "cell_type": "code",
   "execution_count": 27,
   "metadata": {},
   "outputs": [
    {
     "name": "stdout",
     "output_type": "stream",
     "text": [
      "regularised cost is  1.4354289181891902\n",
      "regularised cost is  1.4349380368026807\n",
      "regularised cost is  1.4344507660754235\n",
      "regularised cost is  1.4339670820074997\n",
      "regularised cost is  1.433486960786251\n",
      "regularised cost is  1.4330103787843265\n",
      "regularised cost is  1.4325373125577856\n",
      "regularised cost is  1.4320677388442997\n",
      "regularised cost is  1.4316016345614653\n",
      "regularised cost is  1.4311389768052278\n",
      "regularised cost is  1.430679742848423\n",
      "regularised cost is  1.4302239101394272\n"
     ]
    }
   ],
   "source": [
    "alpha=0.0003\n",
    "for i1 in range(0,12000):\n",
    "    [theta1 ,theta2 ,theta3, b1, b2, b3]=compute_grad(theta1,b1,theta2,b2,theta3,b3,X,y1,alpha)\n",
    "    if i1%1000==0:\n",
    "        #print(theta2)\n",
    "        cost_reg(theta1,b1,theta2,b2,theta3,b3,X,y1)"
   ]
  },
  {
   "cell_type": "code",
   "execution_count": 28,
   "metadata": {},
   "outputs": [
    {
     "name": "stdout",
     "output_type": "stream",
     "text": [
      "regularised cost is  1.4297717568162533\n",
      "regularised cost is  1.4294719857064675\n",
      "regularised cost is  1.42917369991586\n",
      "regularised cost is  1.4288768929414521\n",
      "regularised cost is  1.4285815583140333\n",
      "regularised cost is  1.428287689598054\n",
      "regularised cost is  1.4279952803915195\n",
      "regularised cost is  1.4277043243258876\n"
     ]
    }
   ],
   "source": [
    "alpha=0.0001  #what we are doing is decreasing alpha to avoid overshotting\n",
    "for i1 in range(0,16000):\n",
    "    [theta1 ,theta2 ,theta3, b1, b2, b3]=compute_grad(theta1,b1,theta2,b2,theta3,b3,X,y1,alpha)\n",
    "    if i1%2000==0:\n",
    "        #print(theta2)\n",
    "        cost_reg(theta1,b1,theta2,b2,theta3,b3,X,y1)"
   ]
  },
  {
   "cell_type": "code",
   "execution_count": 29,
   "metadata": {},
   "outputs": [
    {
     "name": "stdout",
     "output_type": "stream",
     "text": [
      "A0 shape  (400, 5000)\n",
      "A2 shape  (25, 5000)\n",
      "regularised cost is  1.427414959460134\n"
     ]
    },
    {
     "data": {
      "text/plain": [
       "1.427414959460134"
      ]
     },
     "execution_count": 29,
     "metadata": {},
     "output_type": "execute_result"
    }
   ],
   "source": [
    "    A0=X #400 X 5000\n",
    "    print(\"A0 shape \",A0.shape)\n",
    "    Z1=theta1@A0+b1 #25 X 5000\n",
    "    A1=sigmoid(Z1) #25 X 50000\n",
    "    Z2=theta2@A1+b2 # 25 X 5000\n",
    "    A2=sigmoid(Z2)# 25 X 5000\n",
    "    print(\"A2 shape \",A2.shape)\n",
    "    Z3=theta3@A2+b3     #10 X 5000\n",
    "    A3=sigmoid(Z3)\n",
    "   \n",
    "    output=np.argmax(A3, axis=0)\n",
    "    \n",
    "    output=output.reshape((Y.shape))\n",
    "    cost_reg(theta1,b1,theta2,b2,theta3,b3,X,y1)"
   ]
  },
  {
   "cell_type": "code",
   "execution_count": 30,
   "metadata": {},
   "outputs": [
    {
     "name": "stdout",
     "output_type": "stream",
     "text": [
      "Training accuracy: 78.32000000000001%\n"
     ]
    }
   ],
   "source": [
    "print(\"Training accuracy:\", str(100 * np.mean(output == Y)) + \"%\") #str is used to convert float to string to concat % with it"
   ]
  },
  {
   "cell_type": "code",
   "execution_count": null,
   "metadata": {},
   "outputs": [],
   "source": []
  },
  {
   "cell_type": "code",
   "execution_count": null,
   "metadata": {},
   "outputs": [],
   "source": []
  }
 ],
 "metadata": {
  "kernelspec": {
   "display_name": "Python 3",
   "language": "python",
   "name": "python3"
  },
  "language_info": {
   "codemirror_mode": {
    "name": "ipython",
    "version": 3
   },
   "file_extension": ".py",
   "mimetype": "text/x-python",
   "name": "python",
   "nbconvert_exporter": "python",
   "pygments_lexer": "ipython3",
   "version": "3.7.4"
  }
 },
 "nbformat": 4,
 "nbformat_minor": 2
}
